{
 "cells": [
  {
   "cell_type": "code",
   "execution_count": 1,
   "metadata": {},
   "outputs": [],
   "source": [
    "%load_ext autoreload\n",
    "%autoreload 2"
   ]
  },
  {
   "cell_type": "code",
   "execution_count": 2,
   "metadata": {},
   "outputs": [],
   "source": [
    "import os\n",
    "\n",
    "from tqdm import tqdm\n",
    "import pandas as pd\n",
    "\n",
    "from mxnet import gluon, nd, image\n",
    "\n",
    "import matplotlib.pyplot as plt\n",
    "from PIL import Image\n",
    "\n",
    "from patch_generate_util import check_bbox_in_patch, get_patch, draw_with_bbox"
   ]
  },
  {
   "cell_type": "code",
   "execution_count": 3,
   "metadata": {},
   "outputs": [],
   "source": [
    "# num_patches = 4\n",
    "\n",
    "# root = '/home/ec2-user/SageMaker'\n",
    "\n",
    "# data_basedir = f'{root}/datasets/Data'\n",
    "# img_basedir = f'{root}/datasets/Images_DefectNames'\n",
    "\n",
    "# patch_basedir = f'datasets-patches-{num_patches}'"
   ]
  },
  {
   "cell_type": "code",
   "execution_count": 4,
   "metadata": {},
   "outputs": [],
   "source": [
    "def get_meta_data(camera_type='GA', data_type='train', version='2'):\n",
    "    csv_fname = f'{data_basedir}/combined_{camera_type}_v{version}_{data_type}.csv'\n",
    "    df = pd.read_csv(csv_fname)\n",
    "    \n",
    "    return df\n",
    "\n",
    "def fillZero(id, num_digits):\n",
    "    ret = str(id).zfill(num_digits)\n",
    "    return ret"
   ]
  },
  {
   "cell_type": "code",
   "execution_count": 7,
   "metadata": {},
   "outputs": [],
   "source": [
    "def generate_patches(camera_type='GA', data_type='train', num_pathches=1, version='2'):\n",
    "#     patch_dir = f'{patch_basedir}/{camera_type}/{data_type}'\n",
    "    patch_dir = f'{root}/dataset_v{version}/{patch_basedir}/{camera_type}/{data_type}'\n",
    "    df = get_meta_data(camera_type, data_type, version)\n",
    "    \n",
    "    patch_col = ['patch_fname', 'is_defective', 'patch_x0', 'patch_y0', 'patch_bbox_x0', 'patch_bbox_y0', 'patch_bbox_x1', 'patch_bbox_y1']\n",
    "    new_col = patch_col + list(df.columns)\n",
    "    new_df = pd.DataFrame(columns=new_col)\n",
    "    \n",
    "    patch_cnt = 1\n",
    "    invalid_bbox_list = []\n",
    "    patch_exception_list = []\n",
    "    \n",
    "    for index, example in tqdm(df.iterrows(), total=df.shape[0]):\n",
    "        # Retrieve information on the defective image\n",
    "        bbox_x0 = example.RoiX0\n",
    "        bbox_x1 = example.RoiX1\n",
    "        bbox_y0 = example.RoiY0\n",
    "        bbox_y1 = example.RoiY1\n",
    "\n",
    "        # To get the full file path to the image and bounding box information\n",
    "        img_fname = example.img_fname\n",
    "        img_full_fname = f'{img_basedir}_v{version}/{camera_type}/{example.defect_name}/{img_fname}'\n",
    "        bbox = (bbox_x0, bbox_y0, bbox_x1, bbox_y1)\n",
    "        \n",
    "        if (bbox_x0 == bbox_x1) or (bbox_y0 == bbox_y1):\n",
    "            invalid_bbox_list.append(f'{img_fname},{img.shape}')\n",
    "            continue\n",
    "            \n",
    "        if bbox_x0 > bbox_x1 or bbox_y0 > bbox_y1:\n",
    "            invalid_bbox_list.append(f'{img_fname},{img.shape}')\n",
    "            continue\n",
    "            \n",
    "        # To load the image\n",
    "        img = image.imread(img_full_fname)\n",
    "        \n",
    "        defect_class_dir = f'{patch_dir}/{example.defect_name}'\n",
    "        \n",
    "        # To create the class subdirectory if it does not exist\n",
    "        if not os.path.exists(defect_class_dir):\n",
    "            os.makedirs(defect_class_dir, exist_ok=True)\n",
    "        \n",
    "        # To generate patches\n",
    "        for i in range(num_pathches):\n",
    "            try:\n",
    "                patch_img, new_bbox, patch_x0, patch_y0, patch_bbox = get_patch(img, patch_height=128, \n",
    "                                                                    bbox=bbox, bbox_included=True, \n",
    "                                                                    debug=False)\n",
    "                patch_bbox_x0, patch_bbox_y0, patch_bbox_x1, patch_bbox_y1 = patch_bbox\n",
    "            except:\n",
    "                patch_exception_list.append(f'{img_fname},{img.shape}')\n",
    "                continue\n",
    "                \n",
    "            patch_fname = img_fname.replace('.jpg','')\n",
    "            patch_fname = f'{patch_fname}-{patch_x0}.{patch_y0}.jpg'\n",
    "            patch_full_fname = os.path.join(defect_class_dir, patch_fname)            \n",
    "            pil_img = Image.fromarray(patch_img.asnumpy())\n",
    "            pil_img.save(patch_full_fname, 'JPEG', quality=100)\n",
    "            \n",
    "            is_defective = True\n",
    "\n",
    "            patch_series = pd.Series([patch_fname, is_defective, patch_x0, patch_y0, patch_bbox_x0, patch_bbox_y0, patch_bbox_x1, patch_bbox_y1], index=patch_col)\n",
    "            patch_series = patch_series.append(example)\n",
    "\n",
    "            new_df.loc[patch_cnt] = patch_series\n",
    "            patch_cnt += 1\n",
    "            \n",
    "        if patch_cnt % 100 == 0:\n",
    "            draw_with_bbox(patch_img, new_bbox)  \n",
    "\n",
    "    csv_full_fname = f'{root}/dataset_v{version}/{patch_basedir}/patch_list_{camera_type}_{data_type}.csv'\n",
    "    new_df.to_csv(csv_full_fname, index=False)\n",
    "    \n",
    "    print(f'patch list saved to {csv_full_fname}')\n",
    "    print(f'patch_exception_cnt - {len(patch_exception_list)}')\n",
    "    print(f'invalid_bbox_cnt - {len(invalid_bbox_list)}')\n",
    "\n",
    "    return new_df, patch_exception_list, invalid_bbox_list"
   ]
  },
  {
   "cell_type": "code",
   "execution_count": null,
   "metadata": {},
   "outputs": [],
   "source": []
  },
  {
   "cell_type": "code",
   "execution_count": 12,
   "metadata": {},
   "outputs": [
    {
     "name": "stderr",
     "output_type": "stream",
     "text": [
      "  0%|          | 2/7040 [00:00<08:42, 13.48it/s]"
     ]
    },
    {
     "name": "stdout",
     "output_type": "stream",
     "text": [
      "Creating patches of GA v2 - train dataset\n"
     ]
    },
    {
     "name": "stderr",
     "output_type": "stream",
     "text": [
      "100%|██████████| 7040/7040 [25:32<00:00,  4.59it/s]\n",
      "  0%|          | 1/880 [00:00<01:56,  7.58it/s]"
     ]
    },
    {
     "name": "stdout",
     "output_type": "stream",
     "text": [
      "patch list saved to /home/ec2-user/SageMaker/dataset_v2/datasets-patches-4/patch_list_GA_train.csv\n",
      "patch_exception_cnt - 80\n",
      "invalid_bbox_cnt - 0\n",
      "Creating patches of GA v2 - val dataset\n"
     ]
    },
    {
     "name": "stderr",
     "output_type": "stream",
     "text": [
      "100%|██████████| 880/880 [01:49<00:00,  8.04it/s]\n",
      "  0%|          | 1/881 [00:00<02:02,  7.17it/s]"
     ]
    },
    {
     "name": "stdout",
     "output_type": "stream",
     "text": [
      "patch list saved to /home/ec2-user/SageMaker/dataset_v2/datasets-patches-4/patch_list_GA_val.csv\n",
      "patch_exception_cnt - 0\n",
      "invalid_bbox_cnt - 0\n",
      "Creating patches of GA v2 - test dataset\n"
     ]
    },
    {
     "name": "stderr",
     "output_type": "stream",
     "text": [
      "100%|██████████| 881/881 [01:49<00:00,  8.01it/s]\n",
      "  0%|          | 1/3602 [00:00<07:40,  7.82it/s]"
     ]
    },
    {
     "name": "stdout",
     "output_type": "stream",
     "text": [
      "patch list saved to /home/ec2-user/SageMaker/dataset_v2/datasets-patches-4/patch_list_GA_test.csv\n",
      "patch_exception_cnt - 0\n",
      "invalid_bbox_cnt - 0\n",
      "Creating patches of GI v2 - train dataset\n"
     ]
    },
    {
     "name": "stderr",
     "output_type": "stream",
     "text": [
      "100%|██████████| 3602/3602 [07:08<00:00,  8.41it/s]\n",
      "  0%|          | 2/450 [00:00<00:30, 14.91it/s]"
     ]
    },
    {
     "name": "stdout",
     "output_type": "stream",
     "text": [
      "patch list saved to /home/ec2-user/SageMaker/dataset_v2/datasets-patches-4/patch_list_GI_train.csv\n",
      "patch_exception_cnt - 4\n",
      "invalid_bbox_cnt - 0\n",
      "Creating patches of GI v2 - val dataset\n"
     ]
    },
    {
     "name": "stderr",
     "output_type": "stream",
     "text": [
      "100%|██████████| 450/450 [00:33<00:00, 13.35it/s]\n",
      "  0%|          | 2/451 [00:00<00:29, 15.09it/s]"
     ]
    },
    {
     "name": "stdout",
     "output_type": "stream",
     "text": [
      "patch list saved to /home/ec2-user/SageMaker/dataset_v2/datasets-patches-4/patch_list_GI_val.csv\n",
      "patch_exception_cnt - 0\n",
      "invalid_bbox_cnt - 0\n",
      "Creating patches of GI v2 - test dataset\n"
     ]
    },
    {
     "name": "stderr",
     "output_type": "stream",
     "text": [
      "100%|██████████| 451/451 [00:33<00:00, 13.35it/s]\n",
      "  0%|          | 2/7045 [00:00<08:11, 14.32it/s]"
     ]
    },
    {
     "name": "stdout",
     "output_type": "stream",
     "text": [
      "patch list saved to /home/ec2-user/SageMaker/dataset_v2/datasets-patches-4/patch_list_GI_test.csv\n",
      "patch_exception_cnt - 0\n",
      "invalid_bbox_cnt - 0\n",
      "Creating patches of GA v3 - train dataset\n"
     ]
    },
    {
     "name": "stderr",
     "output_type": "stream",
     "text": [
      "100%|██████████| 7045/7045 [22:17<00:00,  5.27it/s]\n",
      "  0%|          | 1/881 [00:00<01:41,  8.71it/s]"
     ]
    },
    {
     "name": "stdout",
     "output_type": "stream",
     "text": [
      "patch list saved to /home/ec2-user/SageMaker/dataset_v3/datasets-patches-4/patch_list_GA_train.csv\n",
      "patch_exception_cnt - 72\n",
      "invalid_bbox_cnt - 0\n",
      "Creating patches of GA v3 - val dataset\n"
     ]
    },
    {
     "name": "stderr",
     "output_type": "stream",
     "text": [
      "100%|██████████| 881/881 [02:06<00:00,  6.97it/s]\n",
      "  0%|          | 0/881 [00:00<?, ?it/s]"
     ]
    },
    {
     "name": "stdout",
     "output_type": "stream",
     "text": [
      "patch list saved to /home/ec2-user/SageMaker/dataset_v3/datasets-patches-4/patch_list_GA_val.csv\n",
      "patch_exception_cnt - 8\n",
      "invalid_bbox_cnt - 0\n",
      "Creating patches of GA v3 - test dataset\n"
     ]
    },
    {
     "name": "stderr",
     "output_type": "stream",
     "text": [
      "100%|██████████| 881/881 [02:16<00:00,  6.43it/s]\n",
      "  0%|          | 1/3602 [00:00<07:12,  8.33it/s]"
     ]
    },
    {
     "name": "stdout",
     "output_type": "stream",
     "text": [
      "patch list saved to /home/ec2-user/SageMaker/dataset_v3/datasets-patches-4/patch_list_GA_test.csv\n",
      "patch_exception_cnt - 0\n",
      "invalid_bbox_cnt - 0\n",
      "Creating patches of GI v3 - train dataset\n"
     ]
    },
    {
     "name": "stderr",
     "output_type": "stream",
     "text": [
      "100%|██████████| 3602/3602 [11:08<00:00,  5.39it/s]\n",
      "  0%|          | 1/450 [00:00<01:01,  7.27it/s]"
     ]
    },
    {
     "name": "stdout",
     "output_type": "stream",
     "text": [
      "patch list saved to /home/ec2-user/SageMaker/dataset_v3/datasets-patches-4/patch_list_GI_train.csv\n",
      "patch_exception_cnt - 4\n",
      "invalid_bbox_cnt - 0\n",
      "Creating patches of GI v3 - val dataset\n"
     ]
    },
    {
     "name": "stderr",
     "output_type": "stream",
     "text": [
      "100%|██████████| 450/450 [01:03<00:00,  7.11it/s]\n",
      "  0%|          | 1/451 [00:00<00:58,  7.71it/s]"
     ]
    },
    {
     "name": "stdout",
     "output_type": "stream",
     "text": [
      "patch list saved to /home/ec2-user/SageMaker/dataset_v3/datasets-patches-4/patch_list_GI_val.csv\n",
      "patch_exception_cnt - 0\n",
      "invalid_bbox_cnt - 0\n",
      "Creating patches of GI v3 - test dataset\n"
     ]
    },
    {
     "name": "stderr",
     "output_type": "stream",
     "text": [
      "100%|██████████| 451/451 [01:06<00:00,  6.80it/s]\n"
     ]
    },
    {
     "name": "stdout",
     "output_type": "stream",
     "text": [
      "patch list saved to /home/ec2-user/SageMaker/dataset_v3/datasets-patches-4/patch_list_GI_test.csv\n",
      "patch_exception_cnt - 0\n",
      "invalid_bbox_cnt - 0\n"
     ]
    }
   ],
   "source": [
    "num_patches = 4\n",
    "\n",
    "root = '/home/ec2-user/SageMaker'\n",
    "data_basedir = f'{root}/datasets/Data'\n",
    "img_basedir = f'{root}/datasets/Images_DefectNames'\n",
    "patch_basedir = f'datasets-patches-{num_patches}'\n",
    "\n",
    "camera_types = ['GA', 'GI']\n",
    "versions = ['2', '3']\n",
    "dataset_types = ['train', 'val', 'test']\n",
    "\n",
    "for version in versions:\n",
    "    for camera_type in camera_types:\n",
    "        for dataset_type in dataset_types:\n",
    "            print(f'Creating patches of {camera_type} v{version} - {dataset_type} dataset')\n",
    "        \n",
    "            train_df, _, _ = generate_patches(camera_type, data_type=dataset_type, num_pathches=num_patches, version=version)\n"
   ]
  },
  {
   "cell_type": "code",
   "execution_count": null,
   "metadata": {},
   "outputs": [],
   "source": []
  },
  {
   "cell_type": "code",
   "execution_count": null,
   "metadata": {},
   "outputs": [],
   "source": []
  },
  {
   "cell_type": "code",
   "execution_count": null,
   "metadata": {},
   "outputs": [],
   "source": []
  },
  {
   "cell_type": "code",
   "execution_count": null,
   "metadata": {},
   "outputs": [],
   "source": []
  },
  {
   "cell_type": "code",
   "execution_count": null,
   "metadata": {},
   "outputs": [],
   "source": []
  }
 ],
 "metadata": {
  "kernelspec": {
   "display_name": "conda_mxnet_p36",
   "language": "python",
   "name": "conda_mxnet_p36"
  },
  "language_info": {
   "codemirror_mode": {
    "name": "ipython",
    "version": 3
   },
   "file_extension": ".py",
   "mimetype": "text/x-python",
   "name": "python",
   "nbconvert_exporter": "python",
   "pygments_lexer": "ipython3",
   "version": "3.6.10"
  }
 },
 "nbformat": 4,
 "nbformat_minor": 4
}
