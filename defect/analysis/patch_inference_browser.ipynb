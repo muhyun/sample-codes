{
 "cells": [
  {
   "cell_type": "code",
   "execution_count": 1,
   "metadata": {},
   "outputs": [],
   "source": [
    "%load_ext autoreload\n",
    "%autoreload 2"
   ]
  },
  {
   "cell_type": "code",
   "execution_count": 2,
   "metadata": {},
   "outputs": [],
   "source": [
    "# !pip install gluoncv"
   ]
  },
  {
   "cell_type": "code",
   "execution_count": 3,
   "metadata": {},
   "outputs": [],
   "source": [
    "import sys\n",
    "\n",
    "sys.path.append('~/SageMaker/AmazonSageMaker-defect-classifier-poca/patch_classification')"
   ]
  },
  {
   "cell_type": "code",
   "execution_count": 4,
   "metadata": {},
   "outputs": [
    {
     "name": "stderr",
     "output_type": "stream",
     "text": [
      "/home/ec2-user/anaconda3/envs/mxnet_p36/lib/python3.6/site-packages/IPython/html.py:14: ShimWarning: The `IPython.html` package has been deprecated since IPython 4.0. You should import from `notebook` instead. `IPython.html.widgets` has moved to `ipywidgets`.\n",
      "  \"`IPython.html.widgets` has moved to `ipywidgets`.\", ShimWarning)\n"
     ]
    }
   ],
   "source": [
    "import os\n",
    "import random\n",
    "\n",
    "import pandas as pd\n",
    "\n",
    "import PIL\n",
    "from PIL import ImageDraw\n",
    "\n",
    "from IPython.display import Image, display\n",
    "from IPython.html.widgets import interact\n",
    "\n",
    "# from preprocessing import get_fname\n",
    "\n",
    "# import utils"
   ]
  },
  {
   "cell_type": "code",
   "execution_count": null,
   "metadata": {},
   "outputs": [],
   "source": []
  },
  {
   "cell_type": "code",
   "execution_count": null,
   "metadata": {},
   "outputs": [],
   "source": []
  },
  {
   "cell_type": "code",
   "execution_count": null,
   "metadata": {},
   "outputs": [],
   "source": []
  },
  {
   "cell_type": "code",
   "execution_count": 5,
   "metadata": {},
   "outputs": [],
   "source": [
    "def get_orig_patch_images(df, idx, version, camera_type, dataset_type):\n",
    "    \n",
    "    img_dir = get_img_dir(version, camera_type, dataset_type)\n",
    "    original_img_dir = get_origin_img_dir(camera_type)\n",
    "    \n",
    "    img_info = df.iloc[idx]\n",
    "    \n",
    "    patch_img_fname = img_info.patch_fname\n",
    "    patch_xy = [img_info.patch_x0, img_info.patch_y0]\n",
    "    orig_bbox = [img_info.RoiX0, img_info.RoiY0, img_info.RoiX1, img_info.RoiY1]\n",
    "    bbox = [img_info.patch_bbox_x0, img_info.patch_bbox_y0, \n",
    "            img_info.patch_bbox_x1, img_info.patch_bbox_y1]\n",
    "    # load the patch image and draw a rectangle of the defect bound box\n",
    "    img_full_fname = os.path.join(img_dir, str(img_info.defect_name), patch_img_fname)\n",
    "    img = PIL.Image.open(img_full_fname).convert('RGB')\n",
    "    img_with_bbox = ImageDraw.Draw(img)\n",
    "    img_with_bbox.rectangle(bbox, outline='#FF0000', width=2)\n",
    "    img.save(tmp_img_fname)\n",
    "\n",
    "    # load the original image and draw a rectangle of the patch\n",
    "    original_img_full_fname = os.path.join(original_img_dir, str(img_info.ClassId), img_info.img_fname)\n",
    "    org_img = PIL.Image.open(original_img_full_fname).convert('RGB')\n",
    "    org_img_with_bbox = ImageDraw.Draw(org_img)\n",
    "    patch_bbox = [patch_xy[0], patch_xy[1], patch_xy[0] + img.size[0], patch_xy[1] + img.size[1]]\n",
    "    org_img_with_bbox.rectangle(patch_bbox, outline='#0000FF', width=2)\n",
    "    org_img_with_bbox.rectangle(orig_bbox, outline='#FF0000', width=2)\n",
    "    org_img.save(tmp_original_img_fname, 'JPEG', quality=100)\n",
    "    \n",
    "    net = models[f'{camera_type}-v{version}']\n",
    "\n",
    "    y_true_label, y_pred_label = modelAnalysisUtil.get_predicted_label(net, img_full_fname, camera_type, version)\n",
    "\n",
    "    cam_fname = modelAnalysisUtil.get_CAM_heatmap(net, img_full_fname, camera_type, version)\n",
    "    \n",
    "    return img_info, org_img.size, img.size, bbox, y_true_label, y_pred_label, cam_fname\n",
    "\n",
    "def display_orig_patch_img(version, camera_type, dataset_type, index):\n",
    "    \n",
    "    train_df = patch_dfs[f'{camera_type}-v{version}-train']\n",
    "    \n",
    "    df = patch_dfs[f'{camera_type}-v{version}-{dataset_type}']\n",
    "    \n",
    "    img_info, org_img_size, patch_img_size, bbox_in_patch, true_label, pred_label, cam_fname = get_orig_patch_images(df, index, version, camera_type, dataset_type)\n",
    "    \n",
    "    \n",
    "    pred_result = 'CORRECT' if true_label == pred_label else 'NOT CORRECT'\n",
    "\n",
    "    # Find a reference image for the predicted class\n",
    "    train_df_defect = train_df[train_df.defect_name==pred_label]\n",
    "    num_defect_examples = len(train_df_defect)\n",
    "    defect_index = random.randint(0, num_defect_examples)\n",
    "    reference_patch_img_fname = train_df_defect.iloc[defect_index].patch_fname\n",
    "    reference_patch_img_full_fname = os.path.join(f'{root}/dataset_v{version}/{patch_dir}', camera_type, 'train', pred_label, reference_patch_img_fname)\n",
    "\n",
    "    model_name = models_name[f'{camera_type}-v{version}']\n",
    "    \n",
    "    print(f'image name           : {img_info.img_fname}')\n",
    "    print(f'orignal image - size : {org_img_size}')\n",
    "    print(f'orignal image - bbox : ({img_info.RoiX0}, {img_info.RoiY0}) , ({img_info.RoiX1}, {img_info.RoiY1})')\n",
    "    print(f'patch image   - size : {patch_img_size}')\n",
    "    print(f'patch image   - bbox : {bbox_in_patch}')\n",
    "    print(f'patch ground truth   : {true_label}')\n",
    "    print(f'predcited            : {pred_label} as {pred_result}')\n",
    "    print(f'model name           : {model_name}')\n",
    "\n",
    "    \n",
    "    \n",
    "    # make a prediction\n",
    "    display(Image(cam_fname))\n",
    "    display(Image(tmp_img_fname))\n",
    "    display(Image(tmp_original_img_fname))\n",
    "    print(f'Reference image of defect {pred_label} - {reference_patch_img_fname}')\n",
    "#     print(f'Full path {reference_patch_img_full_fname}')\n",
    "    display(Image(reference_patch_img_full_fname))\n",
    "    \n",
    "    print('-'*100)\n",
    "    "
   ]
  },
  {
   "cell_type": "code",
   "execution_count": 6,
   "metadata": {},
   "outputs": [],
   "source": [
    "def get_orig_image(df, idx, camera_type, version='2'):\n",
    "    \n",
    "    original_img_dir = get_origin_img_dir(camera_type)\n",
    "    \n",
    "    img_info = df.iloc[idx]\n",
    "    \n",
    "    img_fname = get_fname(img_info)\n",
    "    orig_bbox = [img_info.RoiX0, img_info.RoiY0, img_info.RoiX1, img_info.RoiY1]\n",
    "    \n",
    "    # load the original image and draw a rectangle of the patch\n",
    "    original_img_full_fname = os.path.join(original_img_dir, str(img_info.ClassId), img_fname)\n",
    "    org_img = PIL.Image.open(original_img_full_fname).convert('RGB')\n",
    "    org_img_with_bbox = ImageDraw.Draw(org_img)\n",
    "    org_img_with_bbox.rectangle(orig_bbox, outline='#FF0000', width=2)\n",
    "    org_img.save(tmp_original_img_fname, 'JPEG', quality=100)\n",
    "    \n",
    "    return img_info, org_img.size\n",
    "\n",
    "def display_orig_img(abnormal_type, camera_type, index):\n",
    "    img_info, org_img_size = get_orig_image(abnormal_dfs[f'{camera_type}-{abnormal_type}'], index, camera_type)\n",
    "\n",
    "    img_fname = get_fname(img_info)\n",
    "    print(f'image name           : {img_fname}')\n",
    "    print(f'orignal image - size : {org_img_size}')\n",
    "    print(f'orignal image - bbox : ({img_info.RoiX0}, {img_info.RoiY0}) , ({img_info.RoiX1}, {img_info.RoiY1})')\n",
    "    print(f'orignal image - bbox : ({img_info.RoiX1 - img_info.RoiX0} x {img_info.RoiY1 - img_info.RoiY0}) (w,h)')\n",
    "\n",
    "    display(Image(tmp_original_img_fname))\n",
    "    "
   ]
  },
  {
   "cell_type": "markdown",
   "metadata": {},
   "source": [
    "## Patch browser"
   ]
  },
  {
   "cell_type": "code",
   "execution_count": 7,
   "metadata": {},
   "outputs": [],
   "source": [
    "def get_img_dir(version='2', camera_type='GA', dataset_type='val'):\n",
    "    img_dir = f'{root}/dataset_v{version}/{patch_dir}/{camera_type}/{dataset_type}'\n",
    "    return img_dir\n",
    "\n",
    "def get_origin_img_dir(camera_type='GA'):\n",
    "    original_img_dir = f'{root}/datasets/Images/{camera_type}'\n",
    "    return original_img_dir\n",
    "\n",
    "root = '/home/ec2-user/SageMaker' if 'SageMaker' in os.getcwd() else '/mlsl'\n",
    "\n",
    "tmp_img_fname = f'{root}/tmp.jpg'\n",
    "tmp_original_img_fname = f'{root}/tmp-original.jpg'\n",
    "\n",
    "versions = ['2', '3']\n",
    "camera_types = ['GA', 'GI']\n",
    "dataset_types = ['train', 'val', 'test']\n",
    "abnormal_types = ['large_bbox', 'small_image', 'zerobbox']"
   ]
  },
  {
   "cell_type": "markdown",
   "metadata": {},
   "source": [
    "#### Change the directory name"
   ]
  },
  {
   "cell_type": "code",
   "execution_count": 8,
   "metadata": {},
   "outputs": [],
   "source": [
    "# SET THIS #\n",
    "\n",
    "patch_dir = 'datasets-patches-4'\n",
    "exp_nums = ['exp26', 'exp27']"
   ]
  },
  {
   "cell_type": "code",
   "execution_count": 9,
   "metadata": {},
   "outputs": [
    {
     "name": "stdout",
     "output_type": "stream",
     "text": [
      "exp26 -> exp26-ResNet18_v2-GI-datasetv2-26-0827_124359.params as GI-v2\n",
      "exp27 -> exp27-ResNet18_v2-GA-datasetv2-27-0827_135338.params as GA-v2\n"
     ]
    }
   ],
   "source": [
    "from model_analysis_utils import ModelAnalysisUtil\n",
    "\n",
    "modelAnalysisUtil = ModelAnalysisUtil()\n",
    "\n",
    "models = {}\n",
    "models_name = {}\n",
    "\n",
    "# Loading models of experiments in exp_nums\n",
    "for exp_num in exp_nums:\n",
    "    net, camera_type, version = modelAnalysisUtil.get_model(exp_num)\n",
    "    models_name[f'{camera_type}-v{version}'] = modelAnalysisUtil.get_model_name(exp_num)\n",
    "    models[f'{camera_type}-v{version}'] = net\n",
    "    \n",
    "for exp_num, model_name in zip(exp_nums, models_name):\n",
    "    print(f'{exp_num} -> {models_name[model_name]} as {model_name}')\n",
    "\n"
   ]
  },
  {
   "cell_type": "code",
   "execution_count": 10,
   "metadata": {},
   "outputs": [],
   "source": [
    "patch_dfs = {}\n",
    "\n",
    "for camera_type in camera_types:\n",
    "    for dataset_type in dataset_types:\n",
    "        for version in versions:\n",
    "            csv_fname = f'{root}/dataset_v{version}/{patch_dir}/patch_list_{camera_type}_{dataset_type}.csv'\n",
    "            patch_dfs[f'{camera_type}-v{version}-{dataset_type}'] = pd.read_csv(csv_fname).sort_values(by=['defect_name'])\n",
    "        "
   ]
  },
  {
   "cell_type": "code",
   "execution_count": 11,
   "metadata": {},
   "outputs": [
    {
     "data": {
      "application/vnd.jupyter.widget-view+json": {
       "model_id": "29cbe41cf1ca4a12b35eb30247fe703c",
       "version_major": 2,
       "version_minor": 0
      },
      "text/plain": [
       "interactive(children=(Dropdown(description='version', options=('2',), value='2'), Dropdown(description='camera…"
      ]
     },
     "metadata": {},
     "output_type": "display_data"
    },
    {
     "data": {
      "application/vnd.jupyter.widget-view+json": {
       "model_id": "a34e8d6e4b4d43cb9ce5e018ad80db7d",
       "version_major": 2,
       "version_minor": 0
      },
      "text/plain": [
       "interactive(children=(Dropdown(description='version', options=('2',), value='2'), Dropdown(description='camera…"
      ]
     },
     "metadata": {},
     "output_type": "display_data"
    },
    {
     "data": {
      "application/vnd.jupyter.widget-view+json": {
       "model_id": "012271a21de7450fae1fd0a021b4bfde",
       "version_major": 2,
       "version_minor": 0
      },
      "text/plain": [
       "interactive(children=(Dropdown(description='version', options=('2',), value='2'), Dropdown(description='camera…"
      ]
     },
     "metadata": {},
     "output_type": "display_data"
    },
    {
     "data": {
      "application/vnd.jupyter.widget-view+json": {
       "model_id": "4cac2ebc1b5e45e9b82fa0f4a71c8bff",
       "version_major": 2,
       "version_minor": 0
      },
      "text/plain": [
       "interactive(children=(Dropdown(description='version', options=('2',), value='2'), Dropdown(description='camera…"
      ]
     },
     "metadata": {},
     "output_type": "display_data"
    }
   ],
   "source": [
    "for camera_type in camera_types:\n",
    "    for dataset_type in dataset_types[1:]:\n",
    "        for version in versions:\n",
    "            if f'{camera_type}-v{version}' in models:\n",
    "                interact(display_orig_patch_img, \n",
    "                         version=[version],\n",
    "                         camera_type=[camera_type], \n",
    "                         dataset_type=[dataset_type], \n",
    "                         index=(0,len(patch_dfs[f'{camera_type}-v{version}-{dataset_type}'])-1))\n",
    "        "
   ]
  },
  {
   "cell_type": "code",
   "execution_count": null,
   "metadata": {},
   "outputs": [],
   "source": []
  }
 ],
 "metadata": {
  "kernelspec": {
   "display_name": "conda_mxnet_p36",
   "language": "python",
   "name": "conda_mxnet_p36"
  },
  "language_info": {
   "codemirror_mode": {
    "name": "ipython",
    "version": 3
   },
   "file_extension": ".py",
   "mimetype": "text/x-python",
   "name": "python",
   "nbconvert_exporter": "python",
   "pygments_lexer": "ipython3",
   "version": "3.6.10"
  }
 },
 "nbformat": 4,
 "nbformat_minor": 4
}
