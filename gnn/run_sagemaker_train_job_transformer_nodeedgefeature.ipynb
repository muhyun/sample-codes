{
 "cells": [
  {
   "cell_type": "code",
   "execution_count": 79,
   "id": "38709d06",
   "metadata": {},
   "outputs": [],
   "source": [
    "import shutil\n",
    "import sagemaker\n",
    "from sagemaker.pytorch import PyTorch\n",
    "\n",
    "sagemaker_session = sagemaker.Session()\n",
    "role = sagemaker.get_execution_role()"
   ]
  },
  {
   "cell_type": "code",
   "execution_count": 95,
   "id": "5026e3ef",
   "metadata": {},
   "outputs": [],
   "source": [
    "base_job_name = 'transformer-nodeedgefeature-gold'\n",
    "\n",
    "# instance_type = 'local_gpu'\n",
    "# instance_type = 'local'\n",
    "instance_type = 'ml.p3.2xlarge'\n",
    "\n",
    "output_path = 's3://grab-aws-graphml-datadrop/transformer-models'\n",
    "    \n",
    "hyperparameters = {\n",
    "    'input-dim': 16,\n",
    "    'hid-dim': 16,\n",
    "    'num-attn-head': 8,\n",
    "    'gnn-n-layer': 2,\n",
    "    'fanouts': 20,\n",
    "    'attn-merge': 'linear',\n",
    "    'epochs': 10,\n",
    "    'batch-size': 256,\n",
    "    'learning-rate': 0.0001,\n",
    "    'dropout': 0,\n",
    "    'graph-fname': 'v4_nodeedgefeature_graph_orderfix.bin',\n",
    "    'perm-edge': False,\n",
    "    'perm-edge-inf': False,\n",
    "    'embed-init': 'constant',\n",
    "    'edge-exc-level': 0,\n",
    "    'batch-norm': False\n",
    "}\n",
    "\n",
    "train_ds_location_local = f\"file:///home/ec2-user/SageMaker/data_small/{hyperparameters['graph-fname']}\"\n",
    "train_ds_location_s3 = f\"s3://grab-aws-graphml-datadrop/data_small/{hyperparameters['graph-fname']}\"\n",
    "\n",
    "if 'local' in instance_type:\n",
    "    is_wait = True\n",
    "    train_ds_location = train_ds_location_local \n",
    "else:\n",
    "    is_wait = False\n",
    "    train_ds_location = train_ds_location_s3 \n",
    "    \n",
    "if instance_type == 'local':\n",
    "    shutil.copy('./requirements-cpu.txt', './requirements.txt')\n",
    "elif instance_type == 'local_gpu':\n",
    "    shutil.copy('./requirements-cu101.txt', './requirements.txt')\n",
    "else:\n",
    "    shutil.copy('./requirements-cu111.txt', './requirements.txt')\n",
    "\n",
    "estimator = PyTorch(entry_point='train_transformer_nodeedge_gold.py',\n",
    "                    source_dir='./',\n",
    "                    role=role,\n",
    "                    py_version='py3',\n",
    "                    framework_version='1.8.0',\n",
    "                    instance_count=1,\n",
    "                    instance_type=instance_type,\n",
    "                    volume_size=500,\n",
    "                    hyperparameters=hyperparameters,\n",
    "                    base_job_name=base_job_name,\n",
    "                    output_path=output_path,\n",
    "                    disable_profiler=True,\n",
    "                    debugger_hook_config=False\n",
    "                   )"
   ]
  },
  {
   "cell_type": "code",
   "execution_count": 96,
   "id": "a90577cd",
   "metadata": {},
   "outputs": [],
   "source": [
    "ret = estimator.fit({'train': train_ds_location}, wait=is_wait)"
   ]
  },
  {
   "cell_type": "code",
   "execution_count": 97,
   "id": "2ba5f0e1",
   "metadata": {},
   "outputs": [
    {
     "name": "stdout",
     "output_type": "stream",
     "text": [
      "transformer-nodeedgefeature-gold-2022-04-08-13-31-49-080\n"
     ]
    }
   ],
   "source": [
    "print(estimator.latest_training_job.job_name)"
   ]
  },
  {
   "cell_type": "code",
   "execution_count": null,
   "id": "1616852f",
   "metadata": {},
   "outputs": [],
   "source": []
  },
  {
   "cell_type": "code",
   "execution_count": null,
   "id": "053d8181",
   "metadata": {},
   "outputs": [],
   "source": []
  }
 ],
 "metadata": {
  "kernelspec": {
   "display_name": "conda_pytorch_latest_p36",
   "language": "python",
   "name": "conda_pytorch_latest_p36"
  },
  "language_info": {
   "codemirror_mode": {
    "name": "ipython",
    "version": 3
   },
   "file_extension": ".py",
   "mimetype": "text/x-python",
   "name": "python",
   "nbconvert_exporter": "python",
   "pygments_lexer": "ipython3",
   "version": "3.6.13"
  }
 },
 "nbformat": 4,
 "nbformat_minor": 5
}
